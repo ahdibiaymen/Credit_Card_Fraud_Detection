{
 "cells": [
  {
   "cell_type": "code",
   "execution_count": null,
   "metadata": {
    "id": "avCoB5XAQNtA"
   },
   "outputs": [],
   "source": [
    "! pip install -q kaggle"
   ]
  },
  {
   "cell_type": "code",
   "execution_count": null,
   "metadata": {
    "id": "DUguVUf_8uyz"
   },
   "outputs": [],
   "source": [
    "from google.colab import files"
   ]
  },
  {
   "cell_type": "code",
   "execution_count": null,
   "metadata": {
    "colab": {
     "base_uri": "https://localhost:8080/",
     "height": 92,
     "resources": {
      "http://localhost:8080/nbextensions/google.colab/files.js": {
       "data": "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",
       "headers": [
        [
         "content-type",
         "application/javascript"
        ]
       ],
       "ok": true,
       "status": 200,
       "status_text": "OK"
      }
     }
    },
    "executionInfo": {
     "elapsed": 8314,
     "status": "ok",
     "timestamp": 1623772901129,
     "user": {
      "displayName": "Ahdibi Aimene",
      "photoUrl": "https://lh3.googleusercontent.com/a-/AOh14GhTrAm_Ft7HOoneCCJX8msqahoUnTrm--LmUHg4=s64",
      "userId": "03857746788250304067"
     },
     "user_tz": -60
    },
    "id": "nlwDoYQU85k_",
    "outputId": "aedef2b5-ebdb-4cb8-bb99-d47c69372bf8"
   },
   "outputs": [
    {
     "data": {
      "text/html": [
       "\n",
       "     <input type=\"file\" id=\"files-c62d2a5d-17e9-4572-b907-6df39c8a3a80\" name=\"files[]\" multiple disabled\n",
       "        style=\"border:none\" />\n",
       "     <output id=\"result-c62d2a5d-17e9-4572-b907-6df39c8a3a80\">\n",
       "      Upload widget is only available when the cell has been executed in the\n",
       "      current browser session. Please rerun this cell to enable.\n",
       "      </output>\n",
       "      <script src=\"/nbextensions/google.colab/files.js\"></script> "
      ],
      "text/plain": [
       "<IPython.core.display.HTML object>"
      ]
     },
     "metadata": {
      "tags": []
     },
     "output_type": "display_data"
    },
    {
     "name": "stdout",
     "output_type": "stream",
     "text": [
      "Saving kaggle.json to kaggle.json\n"
     ]
    },
    {
     "data": {
      "text/plain": [
       "{'kaggle.json': b'{\"username\":\"ahdibiaimene\",\"key\":\"39df1b0e4ff4e831be65284367e4eab5\"}'}"
      ]
     },
     "execution_count": 8,
     "metadata": {
      "tags": []
     },
     "output_type": "execute_result"
    }
   ],
   "source": [
    "files.upload()"
   ]
  },
  {
   "cell_type": "code",
   "execution_count": null,
   "metadata": {
    "id": "5ccQW2Pe9Oyp"
   },
   "outputs": [],
   "source": [
    "! mkdir ~/.kaggle "
   ]
  },
  {
   "cell_type": "code",
   "execution_count": null,
   "metadata": {
    "id": "08uDpetp9TzY"
   },
   "outputs": [],
   "source": [
    "! cp kaggle.json ~/.kaggle/"
   ]
  },
  {
   "cell_type": "code",
   "execution_count": null,
   "metadata": {
    "id": "XyjgqrZ19fG6"
   },
   "outputs": [],
   "source": [
    "! chmod 600 ~/.kaggle/kaggle.json"
   ]
  },
  {
   "cell_type": "code",
   "execution_count": null,
   "metadata": {
    "colab": {
     "base_uri": "https://localhost:8080/"
    },
    "executionInfo": {
     "elapsed": 322,
     "status": "ok",
     "timestamp": 1623772901879,
     "user": {
      "displayName": "Ahdibi Aimene",
      "photoUrl": "https://lh3.googleusercontent.com/a-/AOh14GhTrAm_Ft7HOoneCCJX8msqahoUnTrm--LmUHg4=s64",
      "userId": "03857746788250304067"
     },
     "user_tz": -60
    },
    "id": "OQnTwVKU9meu",
    "outputId": "3040507f-5cee-4907-d6ad-db593326c297"
   },
   "outputs": [
    {
     "name": "stdout",
     "output_type": "stream",
     "text": [
      "Warning: Looks like you're using an outdated API Version, please consider updating (server 1.5.12 / client 1.5.4)\n",
      "ref                                                         title                                              size  lastUpdated          downloadCount  \n",
      "----------------------------------------------------------  ------------------------------------------------  -----  -------------------  -------------  \n",
      "gpreda/reddit-vaccine-myths                                 Reddit Vaccine Myths                              229KB  2021-06-14 06:30:31           7550  \n",
      "crowww/a-large-scale-fish-dataset                           A Large Scale Fish Dataset                          3GB  2021-04-28 17:03:01           4591  \n",
      "imsparsh/musicnet-dataset                                   MusicNet Dataset                                   22GB  2021-02-18 14:12:19           1546  \n",
      "dhruvildave/wikibooks-dataset                               Wikibooks Dataset                                   1GB  2021-06-09 15:58:24           2223  \n",
      "fatiimaezzahra/famous-iconic-women                          Famous Iconic Women                               838MB  2021-02-28 14:56:00            761  \n",
      "alsgroup/end-als                                            End ALS Kaggle Challenge                           12GB  2021-04-08 12:16:37            720  \n",
      "nickuzmenkov/nih-chest-xrays-tfrecords                      NIH Chest X-rays TFRecords                         11GB  2021-03-09 04:49:23            584  \n",
      "mathurinache/twitter-edge-nodes                             Twitter Edge Nodes                                342MB  2021-03-08 06:43:04            506  \n",
      "promptcloud/careerbuilder-job-listing-2020                  Careerbuilder Job Listing 2020                     42MB  2021-03-05 06:59:52           1070  \n",
      "coloradokb/dandelionimages                                  DandelionImages                                     4GB  2021-02-19 20:03:47            465  \n",
      "simiotic/github-code-snippets                               GitHub Code Snippets                                7GB  2021-03-03 11:34:39            156  \n",
      "nickuzmenkov/ranzcr-clip-kfold-tfrecords                    RANZCR CLiP KFold TFRecords                         2GB  2021-02-21 13:29:51             83  \n",
      "imsparsh/accentdb-core-extended                             AccentDB - Core & Extended                          6GB  2021-02-17 14:22:54             84  \n",
      "mathurinache/the-lj-speech-dataset                          The LJ Speech Dataset                               3GB  2021-02-15 09:19:54            178  \n",
      "stuartjames/lights                                          LightS: Light Specularity Dataset                  18GB  2021-02-18 14:32:26             76  \n",
      "landrykezebou/lvzhdr-tone-mapping-benchmark-dataset-tmonet  LVZ-HDR Tone Mapping Benchmark Dataset (TMO-Net)   24GB  2021-03-01 05:03:40            109  \n",
      "datasnaek/youtube-new                                       Trending YouTube Video Statistics                 201MB  2019-06-03 00:56:47         142500  \n",
      "zynicide/wine-reviews                                       Wine Reviews                                       51MB  2017-11-27 17:08:04         138477  \n",
      "residentmario/ramen-ratings                                 Ramen Ratings                                      40KB  2018-01-11 16:04:39          24027  \n",
      "datasnaek/chess                                             Chess Game Dataset (Lichess)                        3MB  2017-09-04 03:09:09          19291  \n"
     ]
    }
   ],
   "source": [
    "! kaggle datasets list"
   ]
  },
  {
   "cell_type": "code",
   "execution_count": null,
   "metadata": {
    "colab": {
     "base_uri": "https://localhost:8080/"
    },
    "executionInfo": {
     "elapsed": 1905,
     "status": "ok",
     "timestamp": 1623772903780,
     "user": {
      "displayName": "Ahdibi Aimene",
      "photoUrl": "https://lh3.googleusercontent.com/a-/AOh14GhTrAm_Ft7HOoneCCJX8msqahoUnTrm--LmUHg4=s64",
      "userId": "03857746788250304067"
     },
     "user_tz": -60
    },
    "id": "jB3gSqPK9vql",
    "outputId": "d4b93e20-7ff6-4c1d-f4eb-d80874df6a90"
   },
   "outputs": [
    {
     "name": "stdout",
     "output_type": "stream",
     "text": [
      "Downloading creditcardfraud.zip to /content\n",
      " 67% 44.0M/66.0M [00:00<00:00, 32.0MB/s]\n",
      "100% 66.0M/66.0M [00:00<00:00, 71.6MB/s]\n"
     ]
    }
   ],
   "source": [
    "!kaggle datasets download -d mlg-ulb/creditcardfraud"
   ]
  },
  {
   "cell_type": "code",
   "execution_count": null,
   "metadata": {
    "colab": {
     "base_uri": "https://localhost:8080/"
    },
    "executionInfo": {
     "elapsed": 1960,
     "status": "ok",
     "timestamp": 1623772905729,
     "user": {
      "displayName": "Ahdibi Aimene",
      "photoUrl": "https://lh3.googleusercontent.com/a-/AOh14GhTrAm_Ft7HOoneCCJX8msqahoUnTrm--LmUHg4=s64",
      "userId": "03857746788250304067"
     },
     "user_tz": -60
    },
    "id": "JB5Ea4rA-wuH",
    "outputId": "efacc891-fb06-45a5-caf7-43e9574d70de"
   },
   "outputs": [
    {
     "name": "stdout",
     "output_type": "stream",
     "text": [
      "Archive:  creditcardfraud.zip\n",
      "  inflating: creditcard.csv          \n"
     ]
    }
   ],
   "source": [
    "!unzip creditcardfraud.zip"
   ]
  },
  {
   "cell_type": "code",
   "execution_count": null,
   "metadata": {
    "id": "ciCTPtofKIZy"
   },
   "outputs": [],
   "source": [
    "from matplotlib.colors import Normalize\n",
    "import pandas as pd\n",
    "from pandas.core.frame import DataFrame \n",
    "import numpy as np \n",
    "from matplotlib import pyplot as plt \n",
    "from sklearn.utils import shuffle\n",
    "import seaborn as sns\n",
    "from collections import Counter\n",
    "from sklearn.manifold import TSNE\n",
    "from sklearn.preprocessing import StandardScaler,MinMaxScaler,normalize\n",
    "from sklearn.model_selection import train_test_split\n",
    "from sklearn.metrics import confusion_matrix,accuracy_score,f1_score,classification_report,precision_score,recall_score,matthews_corrcoef,make_scorer\n",
    "from sklearn.neighbors import KNeighborsClassifier\n",
    "from sklearn.ensemble import RandomForestClassifier\n",
    "from sklearn.tree import DecisionTreeClassifier\n",
    "from sklearn.linear_model import LogisticRegression\n",
    "from sklearn.decomposition import PCA\n",
    "from imblearn.over_sampling import SMOTE, ADASYN,RandomOverSampler\n",
    "from imblearn.under_sampling import RandomUnderSampler,TomekLinks\n",
    "from matplotlib import gridspec\n",
    "from sklearn.model_selection import KFold\n",
    "from sklearn.model_selection import GridSearchCV"
   ]
  },
  {
   "cell_type": "code",
   "execution_count": null,
   "metadata": {
    "id": "NWGdOrcWPumb"
   },
   "outputs": [],
   "source": [
    "def PCA_ALGO(X,y):\n",
    "    #PREPARATION DES DONNEES\n",
    "    tsne = TSNE(n_components=2,learning_rate=100,perplexity=50.0,early_exaggeration=20.0,init='pca')\n",
    "    NEW_X=pd.DataFrame(data=X,columns=colonnes_X)\n",
    "    NEW_X['Class']=pd.DataFrame(data=y,columns=colonnes_Y)\n",
    "    X=shuffle(NEW_X)\n",
    "    y=X.iloc[:,-1].values\n",
    "\n",
    "    pca = PCA(n_components=2)\n",
    "    pca_data=pca.fit_transform(X)\n",
    "    print(pca_data.shape)\n",
    "    pca_data=np.vstack((pca_data.T,y)).T\n",
    "    print(pca_data.shape)\n",
    "    print(pca_data)\n",
    "    pca_df=pd.DataFrame(data=pca_data,columns=('PCA1','PCA2','Classe'))\n",
    "    sns.FacetGrid(pca_df,hue='Classe',size=6).map(plt.scatter,'PCA1','PCA2').add_legend()\n",
    "    plt.show()\n",
    "\n",
    "def Distribution(X,y):\n",
    "    #PREPARATION DES DONNEES\n",
    "    tsne = TSNE(n_components=2,learning_rate=100,perplexity=50.0,early_exaggeration=20.0,init='pca')\n",
    "    NEW_X=pd.DataFrame(data=X,columns=colonnes_X)\n",
    "    NEW_X['Class']=pd.DataFrame(data=y,columns=colonnes_Y)\n",
    "    #SNS COUNTPLOT\n",
    "    fig,ax=plt.subplots(figsize=(5,5))\n",
    "    sns.countplot(data=NEW_X,x=\"Class\")\n",
    "    plt.show()\n",
    "\n",
    "def reg_log(X_tr,y_tr,X_ts,y_ts):\n",
    "    logreg = LogisticRegression()\n",
    "    logreg.fit(X_tr,y_tr)\n",
    "    y_pred = logreg.predict(X_ts)\n",
    "    print('Accuracy :{0:0.5f}'.format(accuracy_score(y_pred, y_ts))) \n",
    "    print('Precision : {0:0.5f}'.format(precision_score(y_ts , y_pred)))\n",
    "    print('Recall : {0:0.5f}'.format(recall_score(y_ts , y_pred)))\n",
    "    print('F1 : {0:0.5f}'.format(f1_score(y_ts , y_pred)))\n",
    "    print(f\"\\\\\\\\Matrice de confusion ///:- \\n {confusion_matrix(y_ts, y_pred)}\")\n",
    "    sns.heatmap(pd.DataFrame(confusion_matrix(y_ts, y_pred)), annot=True, annot_kws={\"size\": 25}, cmap=\"winter\" ,fmt='g')\n",
    "    plt.title('Matrice de confusion', y=1.1, fontsize = 22)\n",
    "    plt.xlabel('Prédit',fontsize = 18)\n",
    "    plt.ylabel('Réel',fontsize = 18)\n",
    "    plt.show()\n",
    "\n"
   ]
  },
  {
   "cell_type": "code",
   "execution_count": null,
   "metadata": {
    "id": "8K3JvQGJQGJL"
   },
   "outputs": [],
   "source": [
    "def decision_tree_classification(X_tr,y_tr,X_ts,y_ts):\n",
    "    dt_classifier = DecisionTreeClassifier()\n",
    "    dt_classifier.fit(X_tr, y_tr.values.ravel())\n",
    "    acc_score = dt_classifier.score(X_ts, y_ts)\n",
    "    print(f'SCORE DU MODELE :- {acc_score}')\n",
    "    y_pred = dt_classifier.predict(X_ts)\n",
    "    print('Accuracy :{0:0.5f}'.format(accuracy_score(y_pred, y_ts))) \n",
    "    print('Precision : {0:0.5f}'.format(precision_score(y_ts , y_pred)))\n",
    "    print('Recall : {0:0.5f}'.format(recall_score(y_ts , y_pred)))\n",
    "    print('F1 : {0:0.5f}'.format(f1_score(y_ts , y_pred)))\n",
    "    print(f\"\\\\\\\\Matrice de confusion ///:- \\n {confusion_matrix(y_ts, y_pred)}\")\n",
    "    sns.heatmap(pd.DataFrame(confusion_matrix(y_ts, y_pred)), annot=True, annot_kws={\"size\": 25}, cmap=\"winter\" ,fmt='g')\n",
    "    plt.title('Matrice de confusion', y=1.1, fontsize = 22)\n",
    "    plt.xlabel('Prédit',fontsize = 18)\n",
    "    plt.ylabel('Réel',fontsize = 18)\n",
    "    plt.show()"
   ]
  },
  {
   "cell_type": "code",
   "execution_count": null,
   "metadata": {
    "id": "NOX7Mvr5_bg3"
   },
   "outputs": [],
   "source": [
    "def random_forest_classifier(X_tr,y_tr,X_ts,y_ts):\n",
    "    rf_classifier = RandomForestClassifier(n_estimators=50)\n",
    "    rf_classifier.fit(X_tr, y_tr)\n",
    "    acc_score = rf_classifier.score(X_tr, y_tr)\n",
    "    print(f'SCORE DU MODELE :- {acc_score}')\n",
    "    y_pred = rf_classifier.predict(X_test)\n",
    "    print('Accuracy :{0:0.5f}'.format(accuracy_score(y_pred, y_ts))) \n",
    "    print('Precision : {0:0.5f}'.format(precision_score(y_ts , y_pred)))\n",
    "    print('Recall : {0:0.5f}'.format(recall_score(y_ts , y_pred)))\n",
    "    print('F1 : {0:0.5f}'.format(f1_score(y_ts , y_pred)))\n",
    "    print(f\"\\\\\\\\Matrice de confusion ///:- \\n {confusion_matrix(y_ts, y_pred)}\")\n",
    "    sns.heatmap(pd.DataFrame(confusion_matrix(y_ts, y_pred)), annot=True, annot_kws={\"size\": 25}, cmap=\"winter\" ,fmt='g')\n",
    "    plt.title('Matrice de confusion', y=1.1, fontsize = 22)\n",
    "    plt.xlabel('Prédit',fontsize = 18)\n",
    "    plt.ylabel('Réel',fontsize = 18)\n",
    "    plt.show()"
   ]
  },
  {
   "cell_type": "code",
   "execution_count": null,
   "metadata": {
    "id": "-l5_jUIfDK2H"
   },
   "outputs": [],
   "source": [
    "df = pd.read_csv('creditcard.csv').astype(np.float32)\n",
    "colonnes_X=['Time', 'V1', 'V2', 'V3', 'V4', 'V5', 'V6', 'V7', 'V8', 'V9', 'V10',\n",
    "       'V11', 'V12', 'V13', 'V14', 'V15', 'V16', 'V17', 'V18', 'V19', 'V20',\n",
    "       'V21', 'V22', 'V23', 'V24', 'V25', 'V26', 'V27', 'V28', 'Amount']\n",
    "\n",
    "colonnes_Y=['Class']\n",
    "Sc=StandardScaler()\n",
    "Amount=df[\"Amount\"].values\n",
    "df[\"Amount\"]=Sc.fit_transform(Amount.reshape(-1,1))\n",
    "Time=df[\"Time\"].values\n",
    "df[\"Time\"]=Sc.fit_transform(Time.reshape(-1,1))\n",
    "\n",
    "x = df.drop('Class', axis=1)\n",
    "y = df['Class']\n",
    "\n",
    "X_train, X_test, Y_train, Y_test = train_test_split(x, y, test_size = 0.2, random_state = 0)"
   ]
  },
  {
   "cell_type": "code",
   "execution_count": null,
   "metadata": {
    "colab": {
     "base_uri": "https://localhost:8080/"
    },
    "executionInfo": {
     "elapsed": 2809,
     "status": "ok",
     "timestamp": 1623772909735,
     "user": {
      "displayName": "Ahdibi Aimene",
      "photoUrl": "https://lh3.googleusercontent.com/a-/AOh14GhTrAm_Ft7HOoneCCJX8msqahoUnTrm--LmUHg4=s64",
      "userId": "03857746788250304067"
     },
     "user_tz": -60
    },
    "id": "v_Nzt4_oDLob",
    "outputId": "6381c1e0-f513-431a-914d-5d48cef628a0"
   },
   "outputs": [
    {
     "name": "stdout",
     "output_type": "stream",
     "text": [
      "********** RANDOM FOREST :APRES ADASYN **********\n"
     ]
    },
    {
     "name": "stderr",
     "output_type": "stream",
     "text": [
      "/usr/local/lib/python3.7/dist-packages/sklearn/utils/deprecation.py:87: FutureWarning: Function safe_indexing is deprecated; safe_indexing is deprecated in version 0.22 and will be removed in version 0.24.\n",
      "  warnings.warn(msg, category=FutureWarning)\n"
     ]
    },
    {
     "name": "stdout",
     "output_type": "stream",
     "text": [
      "transactions de la X_TRAIN dataset apres ADASYN=Counter({1.0: 227476, 0.0: 227454})\n",
      "transactions de la dataset X_TEST originale =Counter({0.0: 56861, 1.0: 101})\n"
     ]
    }
   ],
   "source": [
    "adasyn = ADASYN(random_state=42)\n",
    "print(\"*\"*10,\"RANDOM FOREST :APRES ADASYN\",\"*\"*10)\n",
    "X_train_adasyn, y_train_adasyn = adasyn.fit_resample(X_train, Y_train)\n",
    "print(\"transactions de la X_TRAIN dataset apres ADASYN={}\".format(Counter(y_train_adasyn)))\n",
    "print(\"transactions de la dataset X_TEST originale ={}\".format(Counter(Y_test)))\n",
    "#random_forest_classifier(X_train_adasyn,y_train_adasyn,X_test,Y_test)\n",
    "#Distribution(X_train_adasyn,y_train_adasyn)\n",
    "# TSNE_algo(X_train_adasyn,y_train_adasyn)\n",
    "# PCA_ALGO(X_train_adasyn,y_train_adasyn)"
   ]
  },
  {
   "cell_type": "code",
   "execution_count": null,
   "metadata": {
    "id": "e4DZJ38DHnd-"
   },
   "outputs": [],
   "source": [
    "def reg_log_opti(X_tr,y_tr,X_ts,y_ts):\n",
    "    logreg = LogisticRegression()\n",
    "    # Hyperparameters\n",
    "    grid = {'C':[0.001, 0.01, 0.1, 1, 10, 100, 1000],'penalty':['l1','l2']}\n",
    "    # KFold\n",
    "    cv = KFold(n_splits=5,random_state=None,shuffle=False)\n",
    "    #Scorer\n",
    "    mcc_score=make_scorer(matthews_corrcoef)\n",
    "    #GRID SEARCH\n",
    "    log_clf=GridSearchCV(logreg, grid, cv=cv, n_jobs=-1, scoring=mcc_score)\n",
    "    log_clf.fit(X_tr,y_tr)\n",
    "    print(\"les meilleurs hyperparamètres pour la regression logistique sont :{}\".format(log_clf.best_params_))\n",
    "    y_pred = log_clf.predict(X_ts)\n",
    "    print('Accuracy :{0:0.5f}'.format(accuracy_score(y_pred, y_ts))) \n",
    "    print('Precision : {0:0.5f}'.format(precision_score(y_ts , y_pred)))\n",
    "    print('Recall : {0:0.5f}'.format(recall_score(y_ts , y_pred)))\n",
    "    print('F1 : {0:0.5f}'.format(f1_score(y_ts , y_pred)))\n",
    "    print('matthews_corrcoef : {0:0.5f}'.format(matthews_corrcoef(y_ts , y_pred)))\n",
    "    print(f\"\\\\\\\\Matrice de confusion ///:- \\n {confusion_matrix(y_ts, y_pred)}\")\n",
    "    sns.heatmap(pd.DataFrame(confusion_matrix(y_ts, y_pred)), annot=True, annot_kws={\"size\": 25}, cmap=\"winter\" ,fmt='g')\n",
    "    plt.title('Matrice de confusion', y=1.1, fontsize = 22)\n",
    "    plt.xlabel('Prédit',fontsize = 18)\n",
    "    plt.ylabel('Réel',fontsize = 18)\n",
    "    plt.show()"
   ]
  },
  {
   "cell_type": "code",
   "execution_count": null,
   "metadata": {
    "colab": {
     "base_uri": "https://localhost:8080/",
     "height": 1000
    },
    "executionInfo": {
     "elapsed": 413080,
     "status": "ok",
     "timestamp": 1623773322806,
     "user": {
      "displayName": "Ahdibi Aimene",
      "photoUrl": "https://lh3.googleusercontent.com/a-/AOh14GhTrAm_Ft7HOoneCCJX8msqahoUnTrm--LmUHg4=s64",
      "userId": "03857746788250304067"
     },
     "user_tz": -60
    },
    "id": "r7_Quvg0GxvQ",
    "outputId": "5a2c0239-80fd-4227-e6ba-b8b1dd6d10ae"
   },
   "outputs": [
    {
     "name": "stderr",
     "output_type": "stream",
     "text": [
      "/usr/local/lib/python3.7/dist-packages/sklearn/utils/deprecation.py:87: FutureWarning: Function safe_indexing is deprecated; safe_indexing is deprecated in version 0.22 and will be removed in version 0.24.\n",
      "  warnings.warn(msg, category=FutureWarning)\n",
      "/usr/local/lib/python3.7/dist-packages/sklearn/utils/deprecation.py:87: FutureWarning: Function safe_indexing is deprecated; safe_indexing is deprecated in version 0.22 and will be removed in version 0.24.\n",
      "  warnings.warn(msg, category=FutureWarning)\n"
     ]
    },
    {
     "name": "stdout",
     "output_type": "stream",
     "text": [
      "FIN SMT ----------\n",
      "transactions de la X_TRAIN dataset apres SMOTETOmek=Counter({0.0: 227454, 1.0: 227454})\n",
      "transactions de la dataset X_TEST originale =Counter({0.0: 56861, 1.0: 101})\n",
      "------------------------------ REGRESSION LOGISTIQUE PAR DEFAULT ------------------------------\n",
      "Accuracy :0.97490\n",
      "Precision : 0.06254\n",
      "Recall : 0.94059\n",
      "F1 : 0.11728\n",
      "\\\\Matrice de confusion ///:- \n",
      " [[55437  1424]\n",
      " [    6    95]]\n"
     ]
    },
    {
     "data": {
      "image/png": "[encoded data removed]",
      "text/plain": [
       "<Figure size 432x288 with 2 Axes>"
      ]
     },
     "metadata": {
      "needs_background": "light",
      "tags": []
     },
     "output_type": "display_data"
    },
    {
     "name": "stdout",
     "output_type": "stream",
     "text": [
      "------------------------------ REGRESSION LOGISTIQUE PAR OPTIMISATION DES HYPERPARAMETRES ------------------------------\n",
      "les meilleurs hyperparamètres pour la regression logistique sont :{'C': 0.001, 'penalty': 'l2'}\n",
      "Accuracy :0.97677\n",
      "Precision : 0.06728\n",
      "Recall : 0.94059\n",
      "F1 : 0.12558\n",
      "matthews_corrcoef : 0.24825\n",
      "\\\\Matrice de confusion ///:- \n",
      " [[55544  1317]\n",
      " [    6    95]]\n"
     ]
    },
    {
     "data": {
      "image/png": "[encoded data removed]",
      "text/plain": [
       "<Figure size 432x288 with 2 Axes>"
      ]
     },
     "metadata": {
      "needs_background": "light",
      "tags": []
     },
     "output_type": "display_data"
    }
   ],
   "source": [
    "from imblearn.combine import SMOTETomek\n",
    "smt = SMOTETomek()\n",
    "X_train_smt, y_train_smt = smt.fit_resample(X_train, Y_train)\n",
    "print(\"FIN SMT ----------\")\n",
    "print(\"transactions de la X_TRAIN dataset apres SMOTETOmek={}\".format(Counter(y_train_smt)))\n",
    "print(\"transactions de la dataset X_TEST originale ={}\".format(Counter(Y_test)))\n",
    "#random_forest_classifier(X_train_smt,y_train_smt,X_test,Y_test)\n",
    "print(\"-\"*30,\"REGRESSION LOGISTIQUE PAR DEFAULT\",30*\"-\")\n",
    "reg_log(X_train_smt,y_train_smt,X_test,Y_test)\n",
    "print(\"-\"*30,\"REGRESSION LOGISTIQUE PAR OPTIMISATION DES HYPERPARAMETRES\",30*\"-\")\n",
    "reg_log_opti(X_train_smt,y_train_smt,X_test,Y_test)"
   ]
  },
  {
   "cell_type": "code",
   "execution_count": null,
   "metadata": {
    "colab": {
     "base_uri": "https://localhost:8080/",
     "height": 565
    },
    "executionInfo": {
     "elapsed": 281613,
     "status": "ok",
     "timestamp": 1623773604408,
     "user": {
      "displayName": "Ahdibi Aimene",
      "photoUrl": "https://lh3.googleusercontent.com/a-/AOh14GhTrAm_Ft7HOoneCCJX8msqahoUnTrm--LmUHg4=s64",
      "userId": "03857746788250304067"
     },
     "user_tz": -60
    },
    "id": "P5fD6RB6ZFQU",
    "outputId": "42860475-dcb4-401d-d1e7-df7a84095fed"
   },
   "outputs": [
    {
     "name": "stderr",
     "output_type": "stream",
     "text": [
      "/usr/local/lib/python3.7/dist-packages/sklearn/utils/deprecation.py:87: FutureWarning: Function safe_indexing is deprecated; safe_indexing is deprecated in version 0.22 and will be removed in version 0.24.\n",
      "  warnings.warn(msg, category=FutureWarning)\n"
     ]
    },
    {
     "name": "stdout",
     "output_type": "stream",
     "text": [
      "FIN tl ----------\n",
      "transactions de la X_TRAIN dataset apres SMOTETOmek=Counter({0.0: 227435, 1.0: 391})\n",
      "transactions de la dataset X_TEST originale =Counter({0.0: 56861, 1.0: 101})\n",
      "------------------------------ REGRESSION LOGISTIQUE PAR DEFAULT ------------------------------\n",
      "Accuracy :0.99923\n",
      "Precision : 0.88000\n",
      "Recall : 0.65347\n",
      "F1 : 0.75000\n",
      "\\\\Matrice de confusion ///:- \n",
      " [[56852     9]\n",
      " [   35    66]]\n"
     ]
    },
    {
     "data": {
      "image/png": "[encoded data removed]",
      "text/plain": [
       "<Figure size 432x288 with 2 Axes>"
      ]
     },
     "metadata": {
      "needs_background": "light",
      "tags": []
     },
     "output_type": "display_data"
    }
   ],
   "source": [
    "tl=TomekLinks()\n",
    "X_train_tl, y_train_tl = tl.fit_resample(X_train, Y_train)\n",
    "print(\"FIN tl ----------\")\n",
    "print(\"transactions de la X_TRAIN dataset apres SMOTETOmek={}\".format(Counter(y_train_tl)))\n",
    "print(\"transactions de la dataset X_TEST originale ={}\".format(Counter(Y_test)))\n",
    "#random_forest_classifier(X_train_smt,y_train_smt,X_test,Y_test)\n",
    "print(\"-\"*30,\"REGRESSION LOGISTIQUE PAR DEFAULT\",30*\"-\")\n",
    "reg_log(X_train_tl,y_train_tl,X_test,Y_test)"
   ]
  }
 ],
 "metadata": {
  "accelerator": "GPU",
  "colab": {
   "authorship_tag": "ABX9TyPAg1heUyLqgBIUqwJqHVG2",
   "collapsed_sections": [],
   "name": "detection_fraudes (RL).ipynb",
   "provenance": []
  },
  "kernelspec": {
   "display_name": "Python 3",
   "language": "python",
   "name": "python3"
  },
  "language_info": {
   "codemirror_mode": {
    "name": "ipython",
    "version": 3
   },
   "file_extension": ".py",
   "mimetype": "text/x-python",
   "name": "python",
   "nbconvert_exporter": "python",
   "pygments_lexer": "ipython3",
   "version": "3.7.4"
  }
 },
 "nbformat": 4,
 "nbformat_minor": 1
}
