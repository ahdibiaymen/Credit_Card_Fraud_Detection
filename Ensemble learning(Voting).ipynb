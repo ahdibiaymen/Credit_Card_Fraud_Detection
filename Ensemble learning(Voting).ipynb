{
 "cells": [
  {
   "cell_type": "code",
   "execution_count": 1,
   "metadata": {
    "colab": {
     "base_uri": "https://localhost:8080/",
     "height": 165,
     "resources": {
      "http://localhost:8080/nbextensions/google.colab/files.js": {
       "data": "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",
       "headers": [
        [
         "content-type",
         "application/javascript"
        ]
       ],
       "ok": true,
       "status": 200,
       "status_text": "OK"
      }
     }
    },
    "executionInfo": {
     "elapsed": 13434,
     "status": "ok",
     "timestamp": 1623873086581,
     "user": {
      "displayName": "Ahdibi Aimene",
      "photoUrl": "https://lh3.googleusercontent.com/a-/AOh14GhTrAm_Ft7HOoneCCJX8msqahoUnTrm--LmUHg4=s64",
      "userId": "03857746788250304067"
     },
     "user_tz": -60
    },
    "id": "SIEbiZWTtfsd",
    "outputId": "31f3ea53-5b9f-4f2c-bcf0-a1c6ed05165e"
   },
   "outputs": [
    {
     "data": {
      "text/html": [
       "\n",
       "     <input type=\"file\" id=\"files-5250873f-e5bb-4fb0-b4a4-eecc840aba83\" name=\"files[]\" multiple disabled\n",
       "        style=\"border:none\" />\n",
       "     <output id=\"result-5250873f-e5bb-4fb0-b4a4-eecc840aba83\">\n",
       "      Upload widget is only available when the cell has been executed in the\n",
       "      current browser session. Please rerun this cell to enable.\n",
       "      </output>\n",
       "      <script src=\"/nbextensions/google.colab/files.js\"></script> "
      ],
      "text/plain": [
       "<IPython.core.display.HTML object>"
      ]
     },
     "metadata": {
      "tags": []
     },
     "output_type": "display_data"
    },
    {
     "name": "stdout",
     "output_type": "stream",
     "text": [
      "Saving kaggle.json to kaggle.json\n",
      "Downloading creditcardfraud.zip to /content\n",
      " 76% 50.0M/66.0M [00:00<00:00, 87.9MB/s]\n",
      "100% 66.0M/66.0M [00:00<00:00, 112MB/s] \n",
      "Archive:  creditcardfraud.zip\n",
      "  inflating: creditcard.csv          \n"
     ]
    }
   ],
   "source": [
    "! pip install -q kaggle\n",
    "from google.colab import files\n",
    "files.upload()\n",
    "! mkdir ~/.kaggle \n",
    "! cp kaggle.json ~/.kaggle/\n",
    "! chmod 600 ~/.kaggle/kaggle.json\n",
    "!kaggle datasets download -d mlg-ulb/creditcardfraud\n",
    "!unzip creditcardfraud.zip"
   ]
  },
  {
   "cell_type": "code",
   "execution_count": 3,
   "metadata": {
    "colab": {
     "base_uri": "https://localhost:8080/"
    },
    "executionInfo": {
     "elapsed": 1466,
     "status": "ok",
     "timestamp": 1623873097902,
     "user": {
      "displayName": "Ahdibi Aimene",
      "photoUrl": "https://lh3.googleusercontent.com/a-/AOh14GhTrAm_Ft7HOoneCCJX8msqahoUnTrm--LmUHg4=s64",
      "userId": "03857746788250304067"
     },
     "user_tz": -60
    },
    "id": "vlU8eTdCtj7q",
    "outputId": "0d57f8c3-1e21-4f10-f67b-fc78b46c7e7d"
   },
   "outputs": [
    {
     "name": "stderr",
     "output_type": "stream",
     "text": [
      "/usr/local/lib/python3.7/dist-packages/sklearn/externals/six.py:31: FutureWarning: The module is deprecated in version 0.21 and will be removed in version 0.23 since we've dropped support for Python 2.7. Please rely on the official version of six (https://pypi.org/project/six/).\n",
      "  \"(https://pypi.org/project/six/).\", FutureWarning)\n",
      "/usr/local/lib/python3.7/dist-packages/sklearn/utils/deprecation.py:144: FutureWarning: The sklearn.neighbors.base module is  deprecated in version 0.22 and will be removed in version 0.24. The corresponding classes / functions should instead be imported from sklearn.neighbors. Anything that cannot be imported from sklearn.neighbors is now part of the private API.\n",
      "  warnings.warn(message, FutureWarning)\n"
     ]
    }
   ],
   "source": [
    "from matplotlib.colors import Normalize\n",
    "import pandas as pd\n",
    "from pandas.core.frame import DataFrame \n",
    "import numpy as np \n",
    "from matplotlib import pyplot as plt \n",
    "from sklearn.utils import shuffle\n",
    "import seaborn as sns\n",
    "from collections import Counter\n",
    "from sklearn.manifold import TSNE\n",
    "from sklearn.preprocessing import StandardScaler\n",
    "from sklearn.model_selection import train_test_split\n",
    "from sklearn.metrics import confusion_matrix,accuracy_score,f1_score,classification_report,precision_score,recall_score,matthews_corrcoef,make_scorer,roc_auc_score,roc_curve\n",
    "from sklearn.neighbors import KNeighborsClassifier\n",
    "from sklearn.ensemble import RandomForestClassifier,VotingClassifier\n",
    "from sklearn.tree import DecisionTreeClassifier\n",
    "from sklearn.linear_model import LogisticRegression\n",
    "from sklearn.decomposition import PCA\n",
    "from imblearn.over_sampling import SMOTE, ADASYN,RandomOverSampler,BorderlineSMOTE\n",
    "from imblearn.under_sampling import RandomUnderSampler,TomekLinks,NearMiss\n",
    "from imblearn.combine import SMOTETomek\n",
    "from matplotlib import gridspec\n",
    "from sklearn.model_selection import KFold\n",
    "from sklearn.model_selection import GridSearchCV"
   ]
  },
  {
   "cell_type": "code",
   "execution_count": 4,
   "metadata": {
    "executionInfo": {
     "elapsed": 18,
     "status": "ok",
     "timestamp": 1623873097904,
     "user": {
      "displayName": "Ahdibi Aimene",
      "photoUrl": "https://lh3.googleusercontent.com/a-/AOh14GhTrAm_Ft7HOoneCCJX8msqahoUnTrm--LmUHg4=s64",
      "userId": "03857746788250304067"
     },
     "user_tz": -60
    },
    "id": "5YNV_nX0tpy9"
   },
   "outputs": [],
   "source": [
    "def PCA_ALGO(X,y):\n",
    "    #PREPARATION DES DONNEES\n",
    "    tsne = TSNE(n_components=2,learning_rate=100,perplexity=50.0,early_exaggeration=20.0,init='pca')\n",
    "    NEW_X=pd.DataFrame(data=X,columns=colonnes_X)\n",
    "    NEW_X['Class']=pd.DataFrame(data=y,columns=colonnes_Y)\n",
    "    X=shuffle(NEW_X)\n",
    "    y=X.iloc[:,-1].values\n",
    "\n",
    "    pca = PCA(n_components=2)\n",
    "    pca_data=pca.fit_transform(X)\n",
    "    print(pca_data.shape)\n",
    "    pca_data=np.vstack((pca_data.T,y)).T\n",
    "    print(pca_data.shape)\n",
    "    print(pca_data)\n",
    "    pca_df=pd.DataFrame(data=pca_data,columns=('PCA1','PCA2','Classe'))\n",
    "    sns.FacetGrid(pca_df,hue='Classe',size=6).map(plt.scatter,'PCA1','PCA2').add_legend()\n",
    "    plt.show()\n",
    "\n",
    "def Distribution(X,y):\n",
    "    #PREPARATION DES DONNEES\n",
    "    tsne = TSNE(n_components=2,learning_rate=100,perplexity=50.0,early_exaggeration=20.0,init='pca')\n",
    "    NEW_X=pd.DataFrame(data=X,columns=colonnes_X)\n",
    "    NEW_X['Class']=pd.DataFrame(data=y,columns=colonnes_Y)\n",
    "    #SNS COUNTPLOT\n",
    "    fig,ax=plt.subplots(figsize=(5,5))\n",
    "    sns.countplot(data=NEW_X,x=\"Class\")\n",
    "    plt.show()\n",
    "def TSNE_algo(X,y):\n",
    "\n",
    "    #PREPARATION DES DONNEES\n",
    "    tsne = TSNE(n_components=2,learning_rate=100,perplexity=50.0,early_exaggeration=20.0,init='pca')\n",
    "    NEW_X=pd.DataFrame(data=X,columns=colonnes_X)\n",
    "    NEW_X['Class']=pd.DataFrame(data=y,columns=colonnes_Y)\n",
    "    Fraude=NEW_X[NEW_X['Class']==1]\n",
    "    Normal=NEW_X[NEW_X['Class']==0]\n",
    "    Normal=Normal.iloc[0:10000] #pour prendre que 10000 transaction normale\n",
    "    X=pd.concat([Normal,Fraude])\n",
    "    X=shuffle(X)\n",
    "    y=X.iloc[:,-1].values\n",
    "\n",
    "    #TSNE\n",
    "    x_test_2d = tsne.fit_transform(X)\n",
    "    color_map = {0:'green', 1:'red'}\n",
    "    plt.figure()\n",
    "    for idx, cl in enumerate(np.unique(y)):\n",
    "        plt.scatter(x = x_test_2d[y==cl,0], \n",
    "                    y = x_test_2d[y==cl,1], \n",
    "                    c = color_map[idx], \n",
    "                    label = cl)\n",
    "    plt.xlabel('Composant t-SNE 1')\n",
    "    plt.ylabel('Composant t-SNE 2')\n",
    "    plt.legend(loc='upper left')\n",
    "    plt.title('Représentation des données avec T-SNE')\n",
    "    plt.show()\n",
    "def roc_auc_plot(y_test,y_pred):\n",
    "\n",
    "    plt.figure(figsize=(8,6))\n",
    "    fpr, tpr, thresholds = roc_curve(y_test, y_pred)\n",
    "    auc = roc_auc_score(y_test, y_pred)\n",
    "    print(\"AUC - \",auc,\"\\n\")\n",
    "\n",
    "    plt.plot(fpr,tpr,linewidth=2, label=\"data 1, auc=\"+str(auc))\n",
    "    plt.legend(loc=4)\n",
    "\n",
    "    plt.plot([0,1], [0,1], 'k--' )\n",
    "\n",
    "    plt.rcParams['font.size'] = 12\n",
    "    plt.title('Courbe ROC')\n",
    "    plt.xlabel('taux de faux positifs')\n",
    "    plt.ylabel('taux de vrai positifs')\n",
    "\n",
    "    plt.show()"
   ]
  },
  {
   "cell_type": "code",
   "execution_count": 5,
   "metadata": {
    "executionInfo": {
     "elapsed": 17,
     "status": "ok",
     "timestamp": 1623873097905,
     "user": {
      "displayName": "Ahdibi Aimene",
      "photoUrl": "https://lh3.googleusercontent.com/a-/AOh14GhTrAm_Ft7HOoneCCJX8msqahoUnTrm--LmUHg4=s64",
      "userId": "03857746788250304067"
     },
     "user_tz": -60
    },
    "id": "UMvN_uC1tqH0"
   },
   "outputs": [],
   "source": [
    "def reg_log(X_tr,y_tr,X_ts,y_ts):\n",
    "    logreg = LogisticRegression(C=0.001,penalty='l2')\n",
    "    logreg.fit(X_tr,y_tr)\n",
    "    y_pred = logreg.predict(X_ts)\n",
    "    print('Accuracy :{0:0.5f}'.format(accuracy_score(y_pred, y_ts))) \n",
    "    print('Precision : {0:0.5f}'.format(precision_score(y_ts , y_pred)))\n",
    "    print('Recall : {0:0.5f}'.format(recall_score(y_ts , y_pred)))\n",
    "    print('F1 : {0:0.5f}'.format(f1_score(y_ts , y_pred)))\n",
    "    print('matthews_corrcoef : {0:0.5f}'.format(matthews_corrcoef(y_ts , y_pred)))\n",
    "    print('roc_auc_score_score : {0:0.5f}'.format(roc_auc_score(y_ts , y_pred)))\n",
    "    print(f\"\\\\\\\\Matrice de confusion ///:- \\n {confusion_matrix(y_ts, y_pred)}\")\n",
    "    sns.heatmap(pd.DataFrame(confusion_matrix(y_ts, y_pred)), annot=True, annot_kws={\"size\": 25}, cmap=\"winter\" ,fmt='g')\n",
    "    plt.title('Matrice de confusion', y=1.1, fontsize = 22)\n",
    "    plt.xlabel('Prédit',fontsize = 18)\n",
    "    plt.ylabel('Réel',fontsize = 18)\n",
    "    plt.show()\n",
    "    roc_auc_plot(y_ts,y_pred)"
   ]
  },
  {
   "cell_type": "code",
   "execution_count": 6,
   "metadata": {
    "executionInfo": {
     "elapsed": 17,
     "status": "ok",
     "timestamp": 1623873097908,
     "user": {
      "displayName": "Ahdibi Aimene",
      "photoUrl": "https://lh3.googleusercontent.com/a-/AOh14GhTrAm_Ft7HOoneCCJX8msqahoUnTrm--LmUHg4=s64",
      "userId": "03857746788250304067"
     },
     "user_tz": -60
    },
    "id": "nm3-2T_80Je8"
   },
   "outputs": [],
   "source": [
    "def VotingClassification(X_tr,y_tr,X_ts,y_ts):\n",
    "    logreg = LogisticRegression(C=0.001,penalty='l2')\n",
    "    rf_classifier = RandomForestClassifier(n_estimators=50)\n",
    "    KNN=KNeighborsClassifier(n_neighbors =20,algorithm='auto')\n",
    "\n",
    "    VC=VotingClassifier(estimators=[('lr', logreg), ('rf', rf_classifier), ('knn', KNN)],voting='hard')\n",
    "    VC.fit(X_tr,y_tr)\n",
    "    y_pred = VC.predict(X_ts)\n",
    "    print('Accuracy :{0:0.5f}'.format(accuracy_score(y_pred, y_ts))) \n",
    "    print('Precision : {0:0.5f}'.format(precision_score(y_ts , y_pred)))\n",
    "    print('Recall : {0:0.5f}'.format(recall_score(y_ts , y_pred)))\n",
    "    print('F1 : {0:0.5f}'.format(f1_score(y_ts , y_pred)))\n",
    "    print('matthews_corrcoef : {0:0.5f}'.format(matthews_corrcoef(y_ts , y_pred)))\n",
    "    print('roc_auc_score_score : {0:0.5f}'.format(roc_auc_score(y_ts , y_pred)))\n",
    "    print(f\"\\\\\\\\Matrice de confusion ///:- \\n {confusion_matrix(y_ts, y_pred)}\")\n",
    "    sns.heatmap(pd.DataFrame(confusion_matrix(y_ts, y_pred)), annot=True, annot_kws={\"size\": 25}, cmap=\"winter\" ,fmt='g')\n",
    "    plt.title('Matrice de confusion', y=1.1, fontsize = 22)\n",
    "    plt.xlabel('Prédit',fontsize = 18)\n",
    "    plt.ylabel('Réel',fontsize = 18)\n",
    "    plt.show()\n",
    "    roc_auc_plot(y_ts,y_pred)"
   ]
  },
  {
   "cell_type": "code",
   "execution_count": 7,
   "metadata": {
    "executionInfo": {
     "elapsed": 1521,
     "status": "ok",
     "timestamp": 1623873099414,
     "user": {
      "displayName": "Ahdibi Aimene",
      "photoUrl": "https://lh3.googleusercontent.com/a-/AOh14GhTrAm_Ft7HOoneCCJX8msqahoUnTrm--LmUHg4=s64",
      "userId": "03857746788250304067"
     },
     "user_tz": -60
    },
    "id": "tV5EmQYDuijY"
   },
   "outputs": [],
   "source": [
    "df = pd.read_csv('creditcard.csv').astype(np.float32)\n",
    "colonnes_X=['Time', 'V1', 'V2', 'V3', 'V4', 'V5', 'V6', 'V7', 'V8', 'V9', 'V10',\n",
    "       'V11', 'V12', 'V13', 'V14', 'V15', 'V16', 'V17', 'V18', 'V19', 'V20',\n",
    "       'V21', 'V22', 'V23', 'V24', 'V25', 'V26', 'V27', 'V28', 'Amount']\n",
    "\n",
    "colonnes_Y=['Class']\n",
    "Sc=StandardScaler()\n",
    "Amount=df[\"Amount\"].values\n",
    "df[\"Amount\"]=Sc.fit_transform(Amount.reshape(-1,1))\n",
    "Time=df[\"Time\"].values\n",
    "df[\"Time\"]=Sc.fit_transform(Time.reshape(-1,1))\n",
    "\n",
    "x = df.drop('Class', axis=1)\n",
    "y = df['Class']\n",
    "\n",
    "X_train, X_test, Y_train, Y_test = train_test_split(x, y, test_size = 0.2, random_state = 0)"
   ]
  },
  {
   "cell_type": "code",
   "execution_count": 8,
   "metadata": {
    "colab": {
     "base_uri": "https://localhost:8080/"
    },
    "executionInfo": {
     "elapsed": 9,
     "status": "ok",
     "timestamp": 1623873099415,
     "user": {
      "displayName": "Ahdibi Aimene",
      "photoUrl": "https://lh3.googleusercontent.com/a-/AOh14GhTrAm_Ft7HOoneCCJX8msqahoUnTrm--LmUHg4=s64",
      "userId": "03857746788250304067"
     },
     "user_tz": -60
    },
    "id": "tDzd-Hmxu4l5",
    "outputId": "7de72a47-7561-4625-b202-c3440895d278"
   },
   "outputs": [
    {
     "name": "stdout",
     "output_type": "stream",
     "text": [
      "le nombre de transactions normales est :284315\n",
      "le nombre de transactions frauduleuses est :492\n"
     ]
    }
   ],
   "source": [
    "Fraude=df[df['Class']==1]\n",
    "normal=df[df['Class']==0]\n",
    "print(f'le nombre de transactions normales est :{len(normal)}')\n",
    "print(f'le nombre de transactions frauduleuses est :{len(Fraude)}')"
   ]
  },
  {
   "cell_type": "code",
   "execution_count": 9,
   "metadata": {
    "colab": {
     "base_uri": "https://localhost:8080/",
     "height": 1000
    },
    "executionInfo": {
     "elapsed": 432314,
     "status": "ok",
     "timestamp": 1623873775621,
     "user": {
      "displayName": "Ahdibi Aimene",
      "photoUrl": "https://lh3.googleusercontent.com/a-/AOh14GhTrAm_Ft7HOoneCCJX8msqahoUnTrm--LmUHg4=s64",
      "userId": "03857746788250304067"
     },
     "user_tz": -60
    },
    "id": "HhnTkVwfulo-",
    "outputId": "2bfb2548-ef87-42fa-af0b-6d21e3593d4b"
   },
   "outputs": [
    {
     "name": "stderr",
     "output_type": "stream",
     "text": [
      "/usr/local/lib/python3.7/dist-packages/sklearn/utils/deprecation.py:87: FutureWarning: Function safe_indexing is deprecated; safe_indexing is deprecated in version 0.22 and will be removed in version 0.24.\n",
      "  warnings.warn(msg, category=FutureWarning)\n"
     ]
    },
    {
     "name": "stdout",
     "output_type": "stream",
     "text": [
      "transactions de la X_TRAIN dataset apres SMOTE=Counter({0.0: 227454, 1.0: 227454})\n",
      "transactions de la dataset X_TEST originale =Counter({0.0: 56861, 1.0: 101})\n",
      "------------------------------ VotingClassification(KNN,RF,LF) SUR DATASET ORIGINAL ------------------------------\n",
      "Accuracy :0.99942\n",
      "Precision : 0.92500\n",
      "Recall : 0.73267\n",
      "F1 : 0.81768\n",
      "matthews_corrcoef : 0.82297\n",
      "roc_auc_score_score : 0.86628\n",
      "\\\\Matrice de confusion ///:- \n",
      " [[56855     6]\n",
      " [   27    74]]\n"
     ]
    },
    {
     "data": {
      "image/png": "[encoded data removed]",
      "text/plain": [
       "<Figure size 432x288 with 2 Axes>"
      ]
     },
     "metadata": {
      "needs_background": "light",
      "tags": []
     },
     "output_type": "display_data"
    },
    {
     "name": "stdout",
     "output_type": "stream",
     "text": [
      "AUC -  0.8662838734234831 \n",
      "\n"
     ]
    },
    {
     "data": {
      "image/png": "[encoded data removed]",
      "text/plain": [
       "<Figure size 576x432 with 1 Axes>"
      ]
     },
     "metadata": {
      "needs_background": "light",
      "tags": []
     },
     "output_type": "display_data"
    },
    {
     "name": "stdout",
     "output_type": "stream",
     "text": [
      "------------------------------ VotingClassification(KNN,RF,LF) AVEC SMOTE ------------------------------\n",
      "Accuracy :0.99877\n",
      "Precision : 0.60544\n",
      "Recall : 0.88119\n",
      "F1 : 0.71774\n",
      "matthews_corrcoef : 0.72987\n",
      "roc_auc_score_score : 0.94008\n",
      "\\\\Matrice de confusion ///:- \n",
      " [[56803    58]\n",
      " [   12    89]]\n"
     ]
    },
    {
     "data": {
      "image/png": "[encoded data removed]",
      "text/plain": [
       "<Figure size 432x288 with 2 Axes>"
      ]
     },
     "metadata": {
      "needs_background": "light",
      "tags": []
     },
     "output_type": "display_data"
    },
    {
     "name": "stdout",
     "output_type": "stream",
     "text": [
      "AUC -  0.9400840437537361 \n",
      "\n"
     ]
    },
    {
     "data": {
      "image/png": "[encoded data removed]",
      "text/plain": [
       "<Figure size 576x432 with 1 Axes>"
      ]
     },
     "metadata": {
      "needs_background": "light",
      "tags": []
     },
     "output_type": "display_data"
    }
   ],
   "source": [
    "smote = SMOTE()\n",
    "X_train_smote, y_train_smote = smote.fit_resample(X_train, Y_train)\n",
    "print(\"transactions de la X_TRAIN dataset apres SMOTE={}\".format(Counter(y_train_smote)))\n",
    "print(\"transactions de la dataset X_TEST originale ={}\".format(Counter(Y_test)))\n",
    "#reg_log(X_train_smote,y_train_smote,X_test,Y_test)\n",
    "print(\"-\"*30,\"VotingClassification(KNN,RF,LF) SUR DATASET ORIGINAL\",30*\"-\")\n",
    "VotingClassification(X_train,Y_train,X_test,Y_test)\n",
    "\n",
    "print(\"-\"*30,\"VotingClassification(KNN,RF,LF) AVEC SMOTE\",30*\"-\")\n",
    "VotingClassification(X_train_smote,y_train_smote,X_test,Y_test)\n",
    "\n"
   ]
  },
  {
   "cell_type": "code",
   "execution_count": 9,
   "metadata": {
    "executionInfo": {
     "elapsed": 6,
     "status": "ok",
     "timestamp": 1623873775623,
     "user": {
      "displayName": "Ahdibi Aimene",
      "photoUrl": "https://lh3.googleusercontent.com/a-/AOh14GhTrAm_Ft7HOoneCCJX8msqahoUnTrm--LmUHg4=s64",
      "userId": "03857746788250304067"
     },
     "user_tz": -60
    },
    "id": "ypnClDbswlLM"
   },
   "outputs": [],
   "source": []
  }
 ],
 "metadata": {
  "accelerator": "GPU",
  "colab": {
   "authorship_tag": "ABX9TyMJMLwvJ29/yvp03Y2lAwzb",
   "collapsed_sections": [],
   "name": "Ensemble learning(Voting).ipynb",
   "provenance": []
  },
  "kernelspec": {
   "display_name": "Python 3",
   "language": "python",
   "name": "python3"
  },
  "language_info": {
   "codemirror_mode": {
    "name": "ipython",
    "version": 3
   },
   "file_extension": ".py",
   "mimetype": "text/x-python",
   "name": "python",
   "nbconvert_exporter": "python",
   "pygments_lexer": "ipython3",
   "version": "3.7.4"
  }
 },
 "nbformat": 4,
 "nbformat_minor": 1
}
